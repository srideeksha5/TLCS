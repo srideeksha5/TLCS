{
 "cells": [
  {
   "cell_type": "markdown",
   "metadata": {
    "id": "nhde1biSjajW"
   },
   "source": [
    "# **Setup for TLCS**"
   ]
  },
  {
   "cell_type": "code",
   "execution_count": 1,
   "metadata": {
    "colab": {
     "base_uri": "https://localhost:8080/",
     "height": 51
    },
    "id": "VZZSh853VCpT",
    "outputId": "c2d6c77b-3e5f-4c18-eb49-00a8ab491a97"
   },
   "outputs": [
    {
     "name": "stderr",
     "output_type": "stream",
     "text": [
      "'pwd' is not recognized as an internal or external command,\n",
      "operable program or batch file.\n",
      "'ls' is not recognized as an internal or external command,\n",
      "operable program or batch file.\n",
      "'rm' is not recognized as an internal or external command,\n",
      "operable program or batch file.\n",
      "'ls' is not recognized as an internal or external command,\n",
      "operable program or batch file.\n"
     ]
    }
   ],
   "source": [
    "!pwd\n",
    "!ls\n",
    "!rm -r *\n",
    "!ls"
   ]
  },
  {
   "cell_type": "code",
   "execution_count": 2,
   "metadata": {
    "colab": {
     "base_uri": "https://localhost:8080/",
     "height": 102
    },
    "id": "GA53_oDvE8eN",
    "outputId": "6638e416-6098-42ab-d80b-9d8112bf5ac0"
   },
   "outputs": [
    {
     "name": "stdout",
     "output_type": "stream",
     "text": [
      "Cloning into 'Deep-QLearning-Agent-for-Traffic-Signal-Control'...\n",
      "remote: Enumerating objects: 168, done.\u001b[K\n",
      "remote: Total 168 (delta 0), reused 0 (delta 0), pack-reused 168\u001b[K\n",
      "Receiving objects: 100% (168/168), 156.58 KiB | 2.06 MiB/s, done.\n",
      "Resolving deltas: 100% (81/81), done.\n"
     ]
    }
   ],
   "source": [
    "!git clone \"https://github.com/AndreaVidali/Deep-QLearning-Agent-for-Traffic-Signal-Control\""
   ]
  },
  {
   "cell_type": "code",
   "execution_count": 3,
   "metadata": {
    "id": "ZzlPMXYpFXi9"
   },
   "outputs": [],
   "source": [
    "!mv /content/Deep-QLearning-Agent-for-Traffic-Signal-Control/TLCS/* /content/\n",
    "!rm -r Deep-QLearning-Agent-for-Traffic-Signal-Control"
   ]
  },
  {
   "cell_type": "code",
   "execution_count": 4,
   "metadata": {
    "colab": {
     "base_uri": "https://localhost:8080/",
     "height": 238
    },
    "id": "MVyz7OCYpA85",
    "outputId": "1b681078-7a39-4f69-f584-9116da2dacc8"
   },
   "outputs": [
    {
     "name": "stdout",
     "output_type": "stream",
     "text": [
      "total 72\n",
      "-rw-r--r-- 1 root root  5157 Sep 30 22:26 generator.py\n",
      "drwxr-xr-x 2 root root  4096 Sep 30 22:26 intersection\n",
      "-rw-r--r-- 1 root root   978 Sep 30 22:26 memory.py\n",
      "-rw-r--r-- 1 root root  3312 Sep 30 22:26 model.py\n",
      "-rw-r--r-- 1 root root  1752 Sep 30 22:26 testing_main.py\n",
      "-rw-r--r-- 1 root root   258 Sep 30 22:26 testing_settings.ini\n",
      "-rw-r--r-- 1 root root  8692 Sep 30 22:26 testing_simulation.py\n",
      "-rw-r--r-- 1 root root  2794 Sep 30 22:26 training_main.py\n",
      "-rw-r--r-- 1 root root   413 Sep 30 22:26 training_settings.ini\n",
      "-rw-r--r-- 1 root root 11990 Sep 30 22:26 training_simulation.py\n",
      "-rw-r--r-- 1 root root  4658 Sep 30 22:26 utils.py\n",
      "-rw-r--r-- 1 root root  1006 Sep 30 22:26 visualization.py\n"
     ]
    }
   ],
   "source": [
    "!ls -l"
   ]
  },
  {
   "cell_type": "code",
   "execution_count": null,
   "metadata": {
    "colab": {
     "base_uri": "https://localhost:8080/",
     "height": 34
    },
    "id": "8zjb7bq_jrSp",
    "outputId": "4143283a-bf3b-4ab2-acb7-6c61aea55d0c"
   },
   "outputs": [
    {
     "name": "stdout",
     "output_type": "stream",
     "text": [
      "Python 3.6.9\n"
     ]
    }
   ],
   "source": [
    "!python --version"
   ]
  },
  {
   "cell_type": "markdown",
   "metadata": {
    "id": "CZ0Ptg7fkXrY"
   },
   "source": [
    "Installing **SUMO TraCI**"
   ]
  },
  {
   "cell_type": "code",
   "execution_count": null,
   "metadata": {
    "colab": {
     "base_uri": "https://localhost:8080/",
     "height": 1000
    },
    "id": "3Oqs5WNyVpco",
    "outputId": "d5f5a6cf-da87-4d12-a2c4-0c4d052f0d06"
   },
   "outputs": [
    {
     "name": "stdout",
     "output_type": "stream",
     "text": [
      "\r",
      "0% [Working]\r",
      "            \r",
      "Get:1 http://security.ubuntu.com/ubuntu bionic-security InRelease [88.7 kB]\n",
      "\r",
      "0% [Connecting to archive.ubuntu.com (91.189.88.142)] [1 InRelease 14.2 kB/88.7\r",
      "                                                                               \r",
      "Get:2 https://cloud.r-project.org/bin/linux/ubuntu bionic-cran35/ InRelease [3,626 B]\n",
      "\r",
      "0% [Connecting to archive.ubuntu.com (91.189.88.142)] [1 InRelease 14.2 kB/88.7\r",
      "0% [Connecting to archive.ubuntu.com (91.189.88.142)] [1 InRelease 43.1 kB/88.7\r",
      "0% [2 InRelease gpgv 3,626 B] [Connecting to archive.ubuntu.com (91.189.88.142)\r",
      "                                                                               \r",
      "Ign:3 https://developer.download.nvidia.com/compute/cuda/repos/ubuntu1804/x86_64  InRelease\n",
      "\r",
      "0% [2 InRelease gpgv 3,626 B] [Waiting for headers] [1 InRelease 43.1 kB/88.7 k\r",
      "0% [2 InRelease gpgv 3,626 B] [Waiting for headers] [Waiting for headers] [Wait\r",
      "                                                                               \r",
      "Ign:4 https://developer.download.nvidia.com/compute/machine-learning/repos/ubuntu1804/x86_64  InRelease\n",
      "Get:5 https://developer.download.nvidia.com/compute/cuda/repos/ubuntu1804/x86_64  Release [697 B]\n",
      "Hit:6 http://archive.ubuntu.com/ubuntu bionic InRelease\n",
      "Hit:7 http://ppa.launchpad.net/graphics-drivers/ppa/ubuntu bionic InRelease\n",
      "Get:8 https://developer.download.nvidia.com/compute/machine-learning/repos/ubuntu1804/x86_64  Release [564 B]\n",
      "Get:9 https://developer.download.nvidia.com/compute/cuda/repos/ubuntu1804/x86_64  Release.gpg [801 B]\n",
      "Get:10 https://developer.download.nvidia.com/compute/machine-learning/repos/ubuntu1804/x86_64  Release.gpg [833 B]\n",
      "Get:11 http://archive.ubuntu.com/ubuntu bionic-updates InRelease [88.7 kB]\n",
      "Get:12 http://ppa.launchpad.net/marutter/c2d4u3.5/ubuntu bionic InRelease [15.4 kB]\n",
      "Get:13 http://security.ubuntu.com/ubuntu bionic-security/main amd64 Packages [961 kB]\n",
      "Get:14 http://archive.ubuntu.com/ubuntu bionic-backports InRelease [74.6 kB]\n",
      "Get:15 http://ppa.launchpad.net/sumo/stable/ubuntu bionic InRelease [15.4 kB]\n",
      "Ign:16 https://developer.download.nvidia.com/compute/cuda/repos/ubuntu1804/x86_64  Packages\n",
      "Get:16 https://developer.download.nvidia.com/compute/cuda/repos/ubuntu1804/x86_64  Packages [151 kB]\n",
      "Get:17 https://developer.download.nvidia.com/compute/machine-learning/repos/ubuntu1804/x86_64  Packages [38.7 kB]\n",
      "Get:18 http://ppa.launchpad.net/marutter/c2d4u3.5/ubuntu bionic/main Sources [1,840 kB]\n",
      "Get:19 http://archive.ubuntu.com/ubuntu bionic-updates/universe amd64 Packages [1,397 kB]\n",
      "Get:20 http://archive.ubuntu.com/ubuntu bionic-updates/main amd64 Packages [1,254 kB]\n",
      "Get:21 http://ppa.launchpad.net/marutter/c2d4u3.5/ubuntu bionic/main amd64 Packages [888 kB]\n",
      "Get:22 http://ppa.launchpad.net/sumo/stable/ubuntu bionic/main amd64 Packages [901 B]\n",
      "Fetched 6,819 kB in 4s (1,813 kB/s)\n",
      "Reading package lists... Done\n",
      "Hit:1 https://cloud.r-project.org/bin/linux/ubuntu bionic-cran35/ InRelease\n",
      "Hit:2 http://security.ubuntu.com/ubuntu bionic-security InRelease\n",
      "Ign:3 https://developer.download.nvidia.com/compute/cuda/repos/ubuntu1804/x86_64  InRelease\n",
      "Ign:4 https://developer.download.nvidia.com/compute/machine-learning/repos/ubuntu1804/x86_64  InRelease\n",
      "Hit:5 https://developer.download.nvidia.com/compute/cuda/repos/ubuntu1804/x86_64  Release\n",
      "Hit:6 https://developer.download.nvidia.com/compute/machine-learning/repos/ubuntu1804/x86_64  Release\n",
      "Hit:7 http://archive.ubuntu.com/ubuntu bionic InRelease\n",
      "Hit:8 http://ppa.launchpad.net/graphics-drivers/ppa/ubuntu bionic InRelease\n",
      "Hit:9 http://archive.ubuntu.com/ubuntu bionic-updates InRelease\n",
      "Hit:10 http://archive.ubuntu.com/ubuntu bionic-backports InRelease\n",
      "Hit:11 http://ppa.launchpad.net/marutter/c2d4u3.5/ubuntu bionic InRelease\n",
      "Hit:12 http://ppa.launchpad.net/sumo/stable/ubuntu bionic InRelease\n",
      "Reading package lists... Done\n",
      "Reading package lists... Done\n",
      "Building dependency tree       \n",
      "Reading state information... Done\n",
      "The following package was automatically installed and is no longer required:\n",
      "  libnvidia-common-440\n",
      "Use 'apt autoremove' to remove it.\n",
      "The following additional packages will be installed:\n",
      "  binfmt-support fastjar jarwrapper javascript-common libfox-1.6-0\n",
      "  libjs-jquery libjs-openlayers libjs-underscore\n",
      "Suggested packages:\n",
      "  apache2 | lighttpd | httpd\n",
      "The following NEW packages will be installed:\n",
      "  binfmt-support fastjar jarwrapper javascript-common libfox-1.6-0\n",
      "  libjs-jquery libjs-openlayers libjs-underscore sumo sumo-doc sumo-tools\n",
      "0 upgraded, 11 newly installed, 0 to remove and 53 not upgraded.\n",
      "Need to get 25.6 MB of archives.\n",
      "After this operation, 154 MB of additional disk space will be used.\n",
      "Get:1 http://archive.ubuntu.com/ubuntu bionic/main amd64 binfmt-support amd64 2.1.8-2 [51.6 kB]\n",
      "Get:2 http://ppa.launchpad.net/sumo/stable/ubuntu bionic/main amd64 sumo amd64 1.6.0+dfsg1-1 [12.0 MB]\n",
      "Get:3 http://archive.ubuntu.com/ubuntu bionic/universe amd64 fastjar amd64 2:0.98-6build1 [66.7 kB]\n",
      "Get:4 http://archive.ubuntu.com/ubuntu bionic-updates/universe amd64 jarwrapper all 0.72.1~18.04.1 [20.3 kB]\n",
      "Get:5 http://archive.ubuntu.com/ubuntu bionic/main amd64 javascript-common all 11 [6,066 B]\n",
      "Get:6 http://archive.ubuntu.com/ubuntu bionic/universe amd64 libfox-1.6-0 amd64 1.6.56-1 [875 kB]\n",
      "Get:7 http://archive.ubuntu.com/ubuntu bionic/main amd64 libjs-jquery all 3.2.1-1 [152 kB]\n",
      "Get:8 http://archive.ubuntu.com/ubuntu bionic/main amd64 libjs-underscore all 1.8.3~dfsg-1 [59.9 kB]\n",
      "Get:9 http://archive.ubuntu.com/ubuntu bionic/universe amd64 libjs-openlayers all 2.13.1+ds2-4 [704 kB]\n",
      "Get:10 http://ppa.launchpad.net/sumo/stable/ubuntu bionic/main amd64 sumo-doc all 1.6.0+dfsg1-1 [787 kB]\n",
      "Get:11 http://ppa.launchpad.net/sumo/stable/ubuntu bionic/main amd64 sumo-tools all 1.6.0+dfsg1-1 [10.9 MB]\n",
      "Fetched 25.6 MB in 4s (6,822 kB/s)\n",
      "Selecting previously unselected package binfmt-support.\n",
      "(Reading database ... 144328 files and directories currently installed.)\n",
      "Preparing to unpack .../00-binfmt-support_2.1.8-2_amd64.deb ...\n",
      "Unpacking binfmt-support (2.1.8-2) ...\n",
      "Selecting previously unselected package fastjar.\n",
      "Preparing to unpack .../01-fastjar_2%3a0.98-6build1_amd64.deb ...\n",
      "Unpacking fastjar (2:0.98-6build1) ...\n",
      "Selecting previously unselected package jarwrapper.\n",
      "Preparing to unpack .../02-jarwrapper_0.72.1~18.04.1_all.deb ...\n",
      "Unpacking jarwrapper (0.72.1~18.04.1) ...\n",
      "Selecting previously unselected package javascript-common.\n",
      "Preparing to unpack .../03-javascript-common_11_all.deb ...\n",
      "Unpacking javascript-common (11) ...\n",
      "Selecting previously unselected package libfox-1.6-0:amd64.\n",
      "Preparing to unpack .../04-libfox-1.6-0_1.6.56-1_amd64.deb ...\n",
      "Unpacking libfox-1.6-0:amd64 (1.6.56-1) ...\n",
      "Selecting previously unselected package libjs-jquery.\n",
      "Preparing to unpack .../05-libjs-jquery_3.2.1-1_all.deb ...\n",
      "Unpacking libjs-jquery (3.2.1-1) ...\n",
      "Selecting previously unselected package libjs-underscore.\n",
      "Preparing to unpack .../06-libjs-underscore_1.8.3~dfsg-1_all.deb ...\n",
      "Unpacking libjs-underscore (1.8.3~dfsg-1) ...\n",
      "Selecting previously unselected package sumo.\n",
      "Preparing to unpack .../07-sumo_1.6.0+dfsg1-1_amd64.deb ...\n",
      "Unpacking sumo (1.6.0+dfsg1-1) ...\n",
      "Selecting previously unselected package sumo-doc.\n",
      "Preparing to unpack .../08-sumo-doc_1.6.0+dfsg1-1_all.deb ...\n",
      "Unpacking sumo-doc (1.6.0+dfsg1-1) ...\n",
      "Selecting previously unselected package libjs-openlayers.\n",
      "Preparing to unpack .../09-libjs-openlayers_2.13.1+ds2-4_all.deb ...\n",
      "Unpacking libjs-openlayers (2.13.1+ds2-4) ...\n",
      "Selecting previously unselected package sumo-tools.\n",
      "Preparing to unpack .../10-sumo-tools_1.6.0+dfsg1-1_all.deb ...\n",
      "Unpacking sumo-tools (1.6.0+dfsg1-1) ...\n",
      "Setting up libjs-jquery (3.2.1-1) ...\n",
      "Setting up binfmt-support (2.1.8-2) ...\n",
      "Created symlink /etc/systemd/system/multi-user.target.wants/binfmt-support.service → /lib/systemd/system/binfmt-support.service.\n",
      "invoke-rc.d: could not determine current runlevel\n",
      "invoke-rc.d: policy-rc.d denied execution of start.\n",
      "Setting up libfox-1.6-0:amd64 (1.6.56-1) ...\n",
      "Setting up libjs-underscore (1.8.3~dfsg-1) ...\n",
      "Setting up fastjar (2:0.98-6build1) ...\n",
      "Setting up libjs-openlayers (2.13.1+ds2-4) ...\n",
      "Setting up sumo (1.6.0+dfsg1-1) ...\n",
      "Setting up javascript-common (11) ...\n",
      "Setting up jarwrapper (0.72.1~18.04.1) ...\n",
      "Setting up sumo-doc (1.6.0+dfsg1-1) ...\n",
      "Setting up sumo-tools (1.6.0+dfsg1-1) ...\n",
      "Processing triggers for systemd (237-3ubuntu10.41) ...\n",
      "Processing triggers for man-db (2.8.3-2ubuntu0.1) ...\n",
      "Processing triggers for mime-support (3.60ubuntu1) ...\n",
      "Processing triggers for libc-bin (2.27-3ubuntu1) ...\n",
      "/sbin/ldconfig.real: /usr/local/lib/python3.6/dist-packages/ideep4py/lib/libmkldnn.so.0 is not a symbolic link\n",
      "\n"
     ]
    }
   ],
   "source": [
    "!add-apt-repository ppa:sumo/stable -y\n",
    "!apt-get update -y\n",
    "!apt-get install sumo sumo-tools sumo-doc"
   ]
  },
  {
   "cell_type": "code",
   "execution_count": null,
   "metadata": {
    "colab": {
     "base_uri": "https://localhost:8080/",
     "height": 173
    },
    "id": "AkoK63N3mR4E",
    "outputId": "f0efee91-beb1-48cc-b1db-e502d07d27c0"
   },
   "outputs": [
    {
     "name": "stdout",
     "output_type": "stream",
     "text": [
      "Collecting traci\n",
      "\u001b[?25l  Downloading https://files.pythonhosted.org/packages/e6/93/3c68e9f61c8415bf727ae3ac48627c54e4141d284ba0b37c5da810939ca6/traci-1.6.0-py3-none-any.whl (206kB)\n",
      "\u001b[K     |████████████████████████████████| 215kB 3.5MB/s \n",
      "\u001b[?25hCollecting sumolib>=1.6.0\n",
      "\u001b[?25l  Downloading https://files.pythonhosted.org/packages/67/f2/c026667c006420cf98948ec3a81f4a68da2f386e14c323ad917462a74267/sumolib-1.6.0-py3-none-any.whl (130kB)\n",
      "\u001b[K     |████████████████████████████████| 133kB 10.6MB/s \n",
      "\u001b[?25hInstalling collected packages: sumolib, traci\n",
      "Successfully installed sumolib-1.6.0 traci-1.6.0\n"
     ]
    }
   ],
   "source": [
    "!pip install traci"
   ]
  },
  {
   "cell_type": "code",
   "execution_count": null,
   "metadata": {
    "id": "s-6v3Jk1oxwE"
   },
   "outputs": [],
   "source": [
    "import os\n",
    "os.environ['SUMO_HOME'] = \"/usr/share/sumo/\""
   ]
  },
  {
   "cell_type": "markdown",
   "metadata": {
    "id": "ebzkYv4_klSV"
   },
   "source": [
    "**Starting Training Process**"
   ]
  },
  {
   "cell_type": "code",
   "execution_count": 3,
   "metadata": {
    "colab": {
     "base_uri": "https://localhost:8080/",
     "height": 1000
    },
    "id": "b2ACqSSajWoT",
    "outputId": "031b34d7-bca5-4eba-8700-3ff292fd9c92"
   },
   "outputs": [
    {
     "ename": "SyntaxError",
     "evalue": "invalid syntax (3994184205.py, line 1)",
     "output_type": "error",
     "traceback": [
      "\u001b[1;36m  Cell \u001b[1;32mIn[3], line 1\u001b[1;36m\u001b[0m\n\u001b[1;33m    python training_main.py\u001b[0m\n\u001b[1;37m           ^\u001b[0m\n\u001b[1;31mSyntaxError\u001b[0m\u001b[1;31m:\u001b[0m invalid syntax\n"
     ]
    }
   ],
   "source": [
    "python training_main.py"
   ]
  },
  {
   "cell_type": "markdown",
   "metadata": {
    "id": "EoyQMaWXkyu1"
   },
   "source": [
    "Check the */models/* directory for output files"
   ]
  }
 ],
 "metadata": {
  "accelerator": "TPU",
  "anaconda-cloud": {},
  "colab": {
   "collapsed_sections": [],
   "name": "TLCS.ipynb",
   "provenance": [],
   "toc_visible": true
  },
  "kernelspec": {
   "display_name": "Python 3 (ipykernel)",
   "language": "python",
   "name": "python3"
  },
  "language_info": {
   "codemirror_mode": {
    "name": "ipython",
    "version": 3
   },
   "file_extension": ".py",
   "mimetype": "text/x-python",
   "name": "python",
   "nbconvert_exporter": "python",
   "pygments_lexer": "ipython3",
   "version": "3.11.3"
  }
 },
 "nbformat": 4,
 "nbformat_minor": 1
}
